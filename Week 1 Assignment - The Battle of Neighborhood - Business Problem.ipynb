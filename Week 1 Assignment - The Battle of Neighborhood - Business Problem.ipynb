{
 "cells": [
  {
   "cell_type": "markdown",
   "metadata": {},
   "source": [
    "### **Business Problem and Analysis**"
   ]
  },
  {
   "cell_type": "markdown",
   "metadata": {},
   "source": [
    "**Introduction**"
   ]
  },
  {
   "cell_type": "markdown",
   "metadata": {},
   "source": [
    "Alex wants to open Restaurant in a Alexanderplatz, Berlin, Germany. Alex want to know the best Locality for opening the Restaurant."
   ]
  },
  {
   "cell_type": "markdown",
   "metadata": {},
   "source": [
    "**Business Problem**"
   ]
  },
  {
   "cell_type": "markdown",
   "metadata": {},
   "source": [
    "In my report I'm going to focus on problems one might face while opening a new restaurant. Well there are many factors to be considered to open a small or big level business. For example say Alex wants to open an Italian restaurant, first and foremost important point to decide is the location for his new restaurant. On what basis can Alex decide his restaurant's location? Does Alex want to rent the place or can she afford to buy it? While selecting the place there are key points to consider like she needs to check out how many Indian restaurants are there in that specific location? If incase there are already two Indian restaurants which have good ratings, will it be risky to open new one near these restaurants? What all factors will help Alex to run his business above average? (Out of scope for this project: Budget for Kitchen tools, restaurant furniture and decorations,hire new chef's and waiters, budget everybody's salary. Decide on Menu details, restaurant advertisment, publish dicount coupons, restaurant website.)"
   ]
  },
  {
   "cell_type": "markdown",
   "metadata": {},
   "source": [
    "**Discussion**"
   ]
  },
  {
   "cell_type": "markdown",
   "metadata": {},
   "source": [
    "Let's discuss the above mentioned problem statements. Firstly Alex needs to choose a suitable location for his restaurant. Let's say Alex wants to open a new Italian Restaurant in Alexandraplatz Berlin. San Francisco is a famous tourist place, and also its in silicon valley, because of that real estate is very costly. So assuming that Alex wants to rent a place for his new restaurant. And now she needs to figure out how many restaurants are there in say neighborhood A, B, C,etc. If there are more than two Indian restaurants in a neighborhood then that would be a great risk to open new restaurant of same cuisine in that neighborhood. Selecting a place where there is less or no restaurant would be of great choice, considering the rent of neighborhood too. Why I'm emphasing that there should be less restaurants is, so that Alex will face less competition with same cuisine restaurants. She needs to look for a place where many people frequently visit so that his business is above average. Places like Downtown, Movie theatre, Malls & Gas stations would help his business running. Restaurants ratings, checkin of customers might help in deciding location crowd. I would also suggest that Alex should check for opening and closing timings of othis restaurants. She may try opening his place 30 mins before othis restaurants open up and close 30 mins or 1 hour later the othis restaurants, this might help to get more customers with in the radius of 6KM."
   ]
  }
 ],
 "metadata": {
  "kernelspec": {
   "display_name": "Python 3",
   "language": "python",
   "name": "python3"
  },
  "language_info": {
   "codemirror_mode": {
    "name": "ipython",
    "version": 3
   },
   "file_extension": ".py",
   "mimetype": "text/x-python",
   "name": "python",
   "nbconvert_exporter": "python",
   "pygments_lexer": "ipython3",
   "version": "3.6.8"
  }
 },
 "nbformat": 4,
 "nbformat_minor": 2
}
